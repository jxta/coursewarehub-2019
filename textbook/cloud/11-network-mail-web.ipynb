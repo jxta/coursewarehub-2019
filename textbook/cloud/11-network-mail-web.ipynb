{
 "cells": [
  {
   "cell_type": "markdown",
   "metadata": {},
   "source": [
    "**Webサーバを立ち上げてみましょう**"
   ]
  },
  {
   "cell_type": "markdown",
   "metadata": {},
   "source": [
    "**Webサーバ　ソフト　Apacheのインストール**"
   ]
  },
  {
   "cell_type": "code",
   "execution_count": null,
   "metadata": {},
   "outputs": [],
   "source": [
    "!sudo apt-get update"
   ]
  },
  {
   "cell_type": "code",
   "execution_count": null,
   "metadata": {},
   "outputs": [],
   "source": [
    "!sudo apt-get install apache2 -y"
   ]
  },
  {
   "cell_type": "markdown",
   "metadata": {},
   "source": [
    "**まだWebサーバが起動していないことをブラウザから確認しましょう**   \n",
    "\n",
    "https://nb03.ecloud.nii.ac.jp/user-redirect/webserver-port-80/index.html"
   ]
  },
  {
   "cell_type": "markdown",
   "metadata": {},
   "source": [
    "**Web Server 起動**"
   ]
  },
  {
   "cell_type": "code",
   "execution_count": null,
   "metadata": {},
   "outputs": [],
   "source": [
    "!sudo /etc/init.d/apache2 start"
   ]
  },
  {
   "cell_type": "markdown",
   "metadata": {},
   "source": [
    "**Webサーバが起動していることをブラウザから確認しましょう**   \n",
    "\n",
    "https://nb03.ecloud.nii.ac.jp/user-redirect/webserver-port-80/index.html"
   ]
  },
  {
   "cell_type": "markdown",
   "metadata": {},
   "source": [
    "**HTMLファイルの書き込み権を付与**"
   ]
  },
  {
   "cell_type": "code",
   "execution_count": null,
   "metadata": {},
   "outputs": [],
   "source": [
    "!pwd"
   ]
  },
  {
   "cell_type": "code",
   "execution_count": null,
   "metadata": {},
   "outputs": [],
   "source": [
    "!sudo chmod 0777 /var/www/html "
   ]
  },
  {
   "cell_type": "markdown",
   "metadata": {},
   "source": [
    "**サンプルWebページ用　ファイル　test.html　を編集できます**"
   ]
  },
  {
   "cell_type": "markdown",
   "metadata": {},
   "source": [
    "[test.html](/user-redirect/edit/textbook/nw_sec/web_samples/test.html)"
   ]
  },
  {
   "cell_type": "markdown",
   "metadata": {},
   "source": [
    "** サンプル htmlファイルを所定のディレクトリに配置　**"
   ]
  },
  {
   "cell_type": "code",
   "execution_count": null,
   "metadata": {
    "scrolled": true
   },
   "outputs": [],
   "source": [
    "!cp web_samples/test.html /var/www/html/test.html; cat /var/www/html/test.html"
   ]
  },
  {
   "cell_type": "markdown",
   "metadata": {},
   "source": [
    "**ブラウザからアクセスできることを確認しましょう**  \n",
    "\n",
    "https://nb03.ecloud.nii.ac.jp/user-redirect/webserver-port-80/test.html"
   ]
  },
  {
   "cell_type": "markdown",
   "metadata": {},
   "source": [
    "**サンプル webページにアクセスした際のアクセス　logを見てみよう**"
   ]
  },
  {
   "cell_type": "code",
   "execution_count": null,
   "metadata": {
    "scrolled": true
   },
   "outputs": [],
   "source": [
    "!sudo tail -10 /var/log/apache2/access.log"
   ]
  },
  {
   "cell_type": "markdown",
   "metadata": {},
   "source": [
    "**---------------------------------------------------** <br>\n",
    "**もう少し面白いサンプルWebページを触ってみましょう**\n",
    "![boids](http://i.imgur.com/2t5YaKQ.jpg)\n",
    "\n",
    "[boidsの説明] (https://ja.wikipedia.org/wiki/ボイド_(人工生命))"
   ]
  },
  {
   "cell_type": "code",
   "execution_count": null,
   "metadata": {},
   "outputs": [],
   "source": [
    "! cd web_samples/boids;sudo cp boids.html main.js /var/www/html"
   ]
  },
  {
   "cell_type": "markdown",
   "metadata": {},
   "source": [
    "**ブラウザからアクセスできることを確認しましょう**  \n",
    "\n",
    "https://nb03.ecloud.nii.ac.jp/user-redirect/webserver-port-80/boids.html"
   ]
  },
  {
   "cell_type": "code",
   "execution_count": null,
   "metadata": {},
   "outputs": [],
   "source": [
    "!sudo ls -l web_samples/boids/"
   ]
  },
  {
   "cell_type": "markdown",
   "metadata": {},
   "source": [
    "[boids.html](/user-redirect/edit/textbook/nw_sec/web_samples/boids/boids.html), [main.js](/user-redirect/edit/textbook/nw_sec/web_samples/boids/main.js)"
   ]
  },
  {
   "cell_type": "markdown",
   "metadata": {},
   "source": [
    "**---------------------------------------------------**   <br>\n",
    "**もう少し面白いサンプルWebページを触ってみましょう**\n",
    "![tetris](http://i.imgur.com/H7qFDLx.jpg)"
   ]
  },
  {
   "cell_type": "code",
   "execution_count": null,
   "metadata": {},
   "outputs": [],
   "source": [
    "! cd web_samples/tetris;sudo cp -r *  /var/www/html"
   ]
  },
  {
   "cell_type": "code",
   "execution_count": null,
   "metadata": {},
   "outputs": [],
   "source": [
    "!sudo ls -l web_samples/tetris/"
   ]
  },
  {
   "cell_type": "markdown",
   "metadata": {},
   "source": [
    "[tetris.html](/user-redirect/edit/textbook/nw_sec/web_samples/tetris/tetris.html), [tetris.js](/user-redirect/edit/textbook/nw_sec/web_samples/tetris/js/tetris.js), [controller.js](/user-redirect/edit/textbook/nw_sec/web_samples/tetris/js/controller.js), [render.js](/user-redirect/edit/textbook/nw_sec/web_samples/tetris/js/render.js), [style.css](/user-redirect/edit/textbook/nw_sec/web_samples/tetris/style.css)"
   ]
  },
  {
   "cell_type": "markdown",
   "metadata": {},
   "source": [
    "**ブラウザからアクセスできることを確認しましょう**  <br>\n",
    "https://nb03.ecloud.nii.ac.jp/user-redirect/webserver-port-80/tetris.html"
   ]
  }
 ],
 "metadata": {
  "kernelspec": {
   "display_name": "Python 3",
   "language": "python",
   "name": "python3"
  },
  "language_info": {
   "codemirror_mode": {
    "name": "ipython",
    "version": 3
   },
   "file_extension": ".py",
   "mimetype": "text/x-python",
   "name": "python",
   "nbconvert_exporter": "python",
   "pygments_lexer": "ipython3",
   "version": "3.7.1"
  }
 },
 "nbformat": 4,
 "nbformat_minor": 2
}
