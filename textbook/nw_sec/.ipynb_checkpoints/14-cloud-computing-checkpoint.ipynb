{
 "cells": [
  {
   "cell_type": "markdown",
   "metadata": {},
   "source": [
    "**OpenStakc Web APIを使って仮想マシンを操作してみよう** 　　\n",
    "\n",
    "API referenceは　　\n",
    "\n",
    "https://developer.openstack.org/ja/api-guide/quick-start/　　\n",
    "\n",
    "https://developer.openstack.org/api-ref/identity/v2/　　\n",
    "\n",
    "https://developer.openstack.org/api-ref/compute/"
   ]
  },
  {
   "cell_type": "markdown",
   "metadata": {},
   "source": [
    "**まず　APIを使う時の認証に必要なtokenを　usernameとpasswordを　identity manager に問い合わせて獲得** 　　\n",
    "\n",
    "token のところの　idに現れる　文字列がそれ。但し、一定時間経つと　expireするので使えなくなる　　\n",
    "\n",
    "token は以降　APIを呼び出すたびに必要となる"
   ]
  },
  {
   "cell_type": "code",
   "execution_count": 3,
   "metadata": {},
   "outputs": [
    {
     "name": "stdout",
     "output_type": "stream",
     "text": [
      "Hit:1 http://security.ubuntu.com/ubuntu bionic-security InRelease\n",
      "Hit:2 http://archive.ubuntu.com/ubuntu bionic InRelease\n",
      "Hit:3 http://archive.ubuntu.com/ubuntu bionic-updates InRelease\n",
      "Hit:4 http://archive.ubuntu.com/ubuntu bionic-backports InRelease\n",
      "Reading package lists... Done\n",
      "Reading package lists... Done\n",
      "Building dependency tree       \n",
      "Reading state information... Done\n",
      "The following additional packages will be installed:\n",
      "  libcurl4\n",
      "The following NEW packages will be installed:\n",
      "  curl libcurl4\n",
      "0 upgraded, 2 newly installed, 0 to remove and 27 not upgraded.\n",
      "Need to get 373 kB of archives.\n",
      "After this operation, 1,036 kB of additional disk space will be used.\n",
      "Get:1 http://archive.ubuntu.com/ubuntu bionic-updates/main amd64 libcurl4 amd64 7.58.0-2ubuntu3.6 [214 kB]\n",
      "Get:2 http://archive.ubuntu.com/ubuntu bionic-updates/main amd64 curl amd64 7.58.0-2ubuntu3.6 [159 kB]\n",
      "Fetched 373 kB in 2s (213 kB/s)\n",
      "debconf: delaying package configuration, since apt-utils is not installed\n",
      "Selecting previously unselected package libcurl4:amd64.\n",
      "(Reading database ... 119319 files and directories currently installed.)\n",
      "Preparing to unpack .../libcurl4_7.58.0-2ubuntu3.6_amd64.deb ...\n",
      "Unpacking libcurl4:amd64 (7.58.0-2ubuntu3.6) ...\n",
      "Selecting previously unselected package curl.\n",
      "Preparing to unpack .../curl_7.58.0-2ubuntu3.6_amd64.deb ...\n",
      "Unpacking curl (7.58.0-2ubuntu3.6) ...\n",
      "Setting up libcurl4:amd64 (7.58.0-2ubuntu3.6) ...\n",
      "Processing triggers for libc-bin (2.27-3ubuntu1) ...\n",
      "Setting up curl (7.58.0-2ubuntu3.6) ...\n"
     ]
    }
   ],
   "source": [
    "!sudo apt-get update;sudo apt-get install curl -y"
   ]
  },
  {
   "cell_type": "code",
   "execution_count": 6,
   "metadata": {},
   "outputs": [
    {
     "name": "stdout",
     "output_type": "stream",
     "text": [
      "env: OS_AUTH_URL=http://157.1.207.59:5000/v3\n",
      "env: OS_PROJECT_NAME=students\n",
      "env: OS_USERNAME=yoko\n",
      "env: OS_PASSWORD=Gunma-u#\n",
      "env: OS_PROJECT_DOMAIN_NAME=default\n",
      "env: OS_USER_DOMAIN_NAME=default\n",
      "env: NOVA_END_POINT=http://157.1.207.59:8774/v2.1/522dde6eaa964f189ac4d1d58eb96ce5\n"
     ]
    }
   ],
   "source": [
    "%env OS_AUTH_URL=http://157.1.207.59:5000/v3\n",
    "%env OS_PROJECT_NAME=students\n",
    "%env OS_USERNAME=yoko\n",
    "%env OS_PASSWORD=Gunma-u#\n",
    "%env OS_PROJECT_DOMAIN_NAME=default\n",
    "%env OS_USER_DOMAIN_NAME=default\n",
    "%env NOVA_END_POINT=http://157.1.207.59:8774/v2.1/522dde6eaa964f189ac4d1d58eb96ce5"
   ]
  },
  {
   "cell_type": "code",
   "execution_count": 7,
   "metadata": {},
   "outputs": [
    {
     "name": "stdout",
     "output_type": "stream",
     "text": [
      "*   Trying 157.1.207.59...\n",
      "* TCP_NODELAY set\n",
      "* Connected to 157.1.207.59 (157.1.207.59) port 5000 (#0)\n",
      "> POST /v3/auth/tokens?nocatalog HTTP/1.1\n",
      "> Host: 157.1.207.59:5000\n",
      "> User-Agent: curl/7.58.0\n",
      "> Accept: */*\n",
      "> Content-Type: application/json\n",
      "> Content-Length: 230\n",
      "> \n",
      "} [230 bytes data]\n",
      "* upload completely sent off: 230 out of 230 bytes\n",
      "< HTTP/1.1 201 Created\n",
      "< Date: Fri, 05 Apr 2019 04:54:43 GMT\n",
      "< Server: Apache/2.4.6 (CentOS)\n",
      "< X-Subject-Token: gAAAAABcpt-T7TnJDVLeLXLWwMcnHh22jAF3LdTLwRpOonkDIbuhxJqIKT5CQiYu5FunTvNGTwcDUrXbYbBMUg2qg__9ZcTj_nQkdJrYDZHDw99pxLp9xe6SOx-nH7D7vkbrJnBpK40jTUEbmYVl62pAmnyBJmLzeUeL5SKPgQ6_NfmxCSPifuA\n",
      "< Vary: X-Auth-Token\n",
      "< x-openstack-request-id: req-367631cb-c17e-4bd2-b281-96aebc9b1c7b\n",
      "< Content-Length: 529\n",
      "< Content-Type: application/json\n",
      "< \n",
      "{ [529 bytes data]\n",
      "* Connection #0 to host 157.1.207.59 left intact\n",
      "{\n",
      "    \"token\": {\n",
      "        \"is_domain\": false,\n",
      "        \"methods\": [\n",
      "            \"password\"\n",
      "        ],\n",
      "        \"roles\": [\n",
      "            {\n",
      "                \"id\": \"9fe2ff9ee4384b1894a90878d3e92bab\",\n",
      "                \"name\": \"_member_\"\n",
      "            }\n",
      "        ],\n",
      "        \"expires_at\": \"2019-04-05T05:54:43.000000Z\",\n",
      "        \"project\": {\n",
      "            \"domain\": {\n",
      "                \"id\": \"default\",\n",
      "                \"name\": \"Default\"\n",
      "            },\n",
      "            \"id\": \"522dde6eaa964f189ac4d1d58eb96ce5\",\n",
      "            \"name\": \"students\"\n",
      "        },\n",
      "        \"user\": {\n",
      "            \"password_expires_at\": null,\n",
      "            \"domain\": {\n",
      "                \"id\": \"default\",\n",
      "                \"name\": \"Default\"\n",
      "            },\n",
      "            \"id\": \"aef524c2471e428c9cf344d923f39708\",\n",
      "            \"name\": \"yoko\"\n",
      "        },\n",
      "        \"audit_ids\": [\n",
      "            \"vLIjeVHhQTWaRjxTTYLU8w\"\n",
      "        ],\n",
      "        \"issued_at\": \"2019-04-05T04:54:43.000000Z\"\n",
      "    }\n",
      "}\n"
     ]
    }
   ],
   "source": [
    "!curl -v -s -X POST $OS_AUTH_URL/auth/tokens?nocatalog   -H \"Content-Type: application/json\"   -d '{ \"auth\": { \"identity\": { \"methods\": [\"password\"],\"password\": {\"user\": {\"domain\": {\"name\": \"'\"$OS_USER_DOMAIN_NAME\"'\"},\"name\": \"'\"$OS_USERNAME\"'\", \"password\": \"'\"$OS_PASSWORD\"'\"} } }, \"scope\": { \"project\": { \"domain\": { \"name\": \"'\"$OS_PROJECT_DOMAIN_NAME\"'\" }, \"name\":  \"'\"$OS_PROJECT_NAME\"'\" } } }}' \\\n",
    "| python -m json.tool"
   ]
  },
  {
   "cell_type": "code",
   "execution_count": null,
   "metadata": {},
   "outputs": [],
   "source": [
    "%env X_Auth_Token=\"gAAAAABbRuOqyOnchS1vkBQ1nKlGiQ6HKrdcCxhxS5RWYlmpAuVPNDdhSxF1FOzn0ClB91VVEDHkX1x-K8Obl5a5bBv6Kzx0sG42u9J0-TnyTkh1T0fwpOj5aVigPfz4zZ9zjgt_5XUvKqKQHN08yv7vNXVvt3LhBWsisqZ153EarEepWOENEt4\""
   ]
  },
  {
   "cell_type": "code",
   "execution_count": null,
   "metadata": {},
   "outputs": [],
   "source": [
    "!curl -s -H  \"X-Auth-Token:$X_Auth_Token\" $NOVA_END_POINT/flavors | python -m json.tool"
   ]
  },
  {
   "cell_type": "markdown",
   "metadata": {},
   "source": [
    "**server 一覧　を取得し、自分の使っている仮想マシンの　server_idを得る**"
   ]
  },
  {
   "cell_type": "code",
   "execution_count": null,
   "metadata": {},
   "outputs": [],
   "source": [
    "!curl -s -H  \"X-Auth-Token:$X_Auth_Token\" $NOVA_END_POINT/servers | python -m json.tool"
   ]
  },
  {
   "cell_type": "markdown",
   "metadata": {},
   "source": [
    "**取得したserver_idを指定して、その仮想マシンの詳細情報を取得**"
   ]
  },
  {
   "cell_type": "code",
   "execution_count": null,
   "metadata": {},
   "outputs": [],
   "source": [
    "%env SERVER_ID=fdcd348e-67cf-4396-a3b4-f2859439ceff\n",
    "!curl -s -H  \"X-Auth-Token:$X_Auth_Token\" $NOVA_END_POINT/servers/$SERVER_ID | python -m json.tool"
   ]
  },
  {
   "cell_type": "markdown",
   "metadata": {},
   "source": [
    "**その仮想マシンの名前を変更してみましょう** \n",
    "\n",
    "**そして実際に変化していることを OpenStackのDash Boardで確認してみよう**  \n",
    "\n",
    "OpenStackのDash Board : http://133.8.140.99/dashboard"
   ]
  },
  {
   "cell_type": "code",
   "execution_count": null,
   "metadata": {},
   "outputs": [],
   "source": [
    "!curl -X PUT -H \"Content-Type: application/json\" -H \"X-Auth-Token:$X_Auth_Token\"  -d '{\"server\": { \"name\" : \"yoko-7777\" }}' $NOVA_END_POINT/servers/$SERVER_ID|python -m json.tool"
   ]
  },
  {
   "cell_type": "markdown",
   "metadata": {},
   "source": [
    "**仮想マシンを停止してみよう**\n",
    "\n",
    "**そして実際に停止していることを OpenStackのDash Boardで確認してみよう**  \n",
    "\n",
    "**また、sshできなくなっていることを確認してみよう**\n",
    "\n",
    "OpenStackのDash Board : http://133.8.140.99/dashboard\n"
   ]
  },
  {
   "cell_type": "code",
   "execution_count": null,
   "metadata": {},
   "outputs": [],
   "source": [
    "!curl -X POST -H \"Content-Type: application/json\" -H \"X-Auth-Token:$X_Auth_Token\"  -d '{\"os-stop\": null}' $NOVA_END_POINT/servers/$SERVER_ID/action"
   ]
  },
  {
   "cell_type": "markdown",
   "metadata": {},
   "source": [
    "**仮想マシンを再稼働してみよう**\n",
    "\n",
    "**そして実際に再稼働していることを OpenStackのDash Boardで確認してみよう**  \n",
    "\n",
    "**sshが再度できるようになっていることを確認してみよう**\n",
    "\n",
    "OpenStackのDash Board : http://133.8.140.99/dashboard\n"
   ]
  },
  {
   "cell_type": "code",
   "execution_count": null,
   "metadata": {},
   "outputs": [],
   "source": [
    "!curl -X POST -H \"Content-Type: application/json\" -H \"X-Auth-Token:$X_Auth_Token\"  -d '{\"os-start\": null}' $NOVA_END_POINT/servers/$SERVER_ID/action"
   ]
  }
 ],
 "metadata": {
  "kernelspec": {
   "display_name": "Python 3",
   "language": "python",
   "name": "python3"
  },
  "language_info": {
   "codemirror_mode": {
    "name": "ipython",
    "version": 3
   },
   "file_extension": ".py",
   "mimetype": "text/x-python",
   "name": "python",
   "nbconvert_exporter": "python",
   "pygments_lexer": "ipython3",
   "version": "3.7.1"
  }
 },
 "nbformat": 4,
 "nbformat_minor": 2
}
