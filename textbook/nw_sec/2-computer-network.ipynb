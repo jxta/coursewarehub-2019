{
 "cells": [
  {
   "cell_type": "markdown",
   "metadata": {},
   "source": [
    "**コンピュータネットワークを使ってみよう** （Jupyter notebookのcell内では　**!**の後にLinuxコマンドを書くとコマンドが実行できる。）"
   ]
  },
  {
   "cell_type": "markdown",
   "metadata": {},
   "source": [
    "**curlコマンドをインストール**　　https://ja.wikipedia.org/wiki/CURL"
   ]
  },
  {
   "cell_type": "code",
   "execution_count": null,
   "metadata": {},
   "outputs": [],
   "source": [
    "!sudo apt-get update; sudo apt-get install curl -y"
   ]
  },
  {
   "cell_type": "markdown",
   "metadata": {},
   "source": [
    "**出席管理用　etherpad https://etherpad.openstack.org/p/2019-nw-sec-ac から　curlコマンドで情報を取得**"
   ]
  },
  {
   "cell_type": "code",
   "execution_count": 1,
   "metadata": {},
   "outputs": [
    {
     "name": "stdout",
     "output_type": "stream",
     "text": [
      "このページは基本的に公開されてるので書き込み内容には注意してください。 ニックネームしか書かない方が良いです！\r\n",
      "\r\n",
      "2019年度　コンピュータネットワークとセキュリティ　講義出席管理（attendance confirmation)\r\n",
      "\r\n",
      "自分の学籍番号とニックネームを（学籍番号）スペース（ニックネーム）の形式で\r\n",
      "この下に書き込んでください。出席のチェックに使います。\r\n",
      "\r\n",
      "(4/10)\r\n",
      "t190d016 wang wenyuan\r\n",
      "t190c019 Kosuke\r\n",
      "t190d055 Shinagawa Hikaru \r\n",
      "s1900099 Yoshinaga\r\n",
      "t190d060 Shin Kasei / 沈 嘉晟\r\n",
      "m1900019 Ueki Kei\r\n",
      "m190065 Tanaka\r\n",
      "t190c030 Masaru\r\n",
      "s1900027 Kota Kubota\r\n",
      "t190d007 Sota Iguchi\r\n",
      "t190c063 shun tateya\r\n",
      "h190b034 Masabayashi daichi\r\n",
      "t190d065 sekiguchi kouta\r\n",
      "t190b043 WU YIJIA\r\n",
      "h190b015 Shiraishi Natsuki\r\n",
      "t190c062 taki\r\n",
      "t190c058 Kota Takahashi\r\n",
      "t190c015 Mari Iwasa\r\n",
      "t190b003 Ryuto Amada\r\n",
      "t190b084 Numa Yuki\r\n",
      "t190e002 isii syou\r\n",
      "t190d013 yuka\r\n",
      "t190d084 daiki\r\n",
      "h190b007 Ohmori Ayane\r\n",
      "h190a040 Shimizu Mai\r\n",
      "h190b014 Shinobe Yuri\r\n",
      "t190b066 takei\r\n",
      "h190a006 Arai Minami\r\n",
      "t190d019 太田爽真\r\n",
      "t190b028 Yusei\r\n",
      "t190d047 Sakurai Takeru\r\n",
      "t190d100 ryuichi maeno\r\n",
      "t190d103 matsumoto kohki\r\n",
      "t190d027 Okabe kaiki\r\n",
      "t190d094 Fujioka Wataru\r\n",
      "t190b116 amaguchi Takumi\r\n",
      "t190d066 sekiguchi shougo\r\n",
      "t190c028 Okamoto Tsukasa\r\n",
      "t190b001 Aoyama Hayato\r\n",
      "t190d071 Takahashi Hiroto\r\n",
      "t190d003 Abe Satoshi\r\n",
      "t190d050 Sato Kento\r\n",
      "t190d044 saito sena\r\n",
      "t190d117 hiroto\r\n",
      "t190a048 kim minjae\r\n",
      "t190c032 kameyama \r\n",
      "t190a010 arai haruhi\r\n",
      "t190e023 Yujiro Murata\r\n",
      "t190d091 hiromu hirayama\r\n",
      "t190d036  Miyuu Kitamura\r\n",
      "t190d097 hoshi\r\n",
      "t190d010 Ryota Ishizaki\r\n",
      "t190d034 akihiro kanda\r\n",
      "t190d113 taiyo moro\r\n",
      "t190b123 Wakasugi Hotaka\r\n"
     ]
    }
   ],
   "source": [
    "!curl https://etherpad.openstack.org/p/2019-nw-sec-ac/export/txt"
   ]
  },
  {
   "cell_type": "markdown",
   "metadata": {},
   "source": [
    "**では簡単な設問に回答して理解度チェック**"
   ]
  },
  {
   "cell_type": "markdown",
   "metadata": {},
   "source": [
    "**出席簿ではなくQ&Aとかがある講義のetherpadページを表示することはできますか？**\n",
    "**そのコマンドを作って実行してみましょう**"
   ]
  },
  {
   "cell_type": "code",
   "execution_count": null,
   "metadata": {},
   "outputs": [],
   "source": [
    "##ここの下の行にコマンドをコピーして実行してみてください。\n"
   ]
  }
 ],
 "metadata": {
  "kernelspec": {
   "display_name": "Python 3",
   "language": "python",
   "name": "python3"
  },
  "language_info": {
   "codemirror_mode": {
    "name": "ipython",
    "version": 3
   },
   "file_extension": ".py",
   "mimetype": "text/x-python",
   "name": "python",
   "nbconvert_exporter": "python",
   "pygments_lexer": "ipython3",
   "version": "3.7.1"
  }
 },
 "nbformat": 4,
 "nbformat_minor": 2
}
