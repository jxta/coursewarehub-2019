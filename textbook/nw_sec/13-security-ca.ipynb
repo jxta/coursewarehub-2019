{
 "cells": [
  {
   "cell_type": "markdown",
   "metadata": {},
   "source": [
    "**opensslコマンドでhashしてみよう**"
   ]
  },
  {
   "cell_type": "markdown",
   "metadata": {},
   "source": [
    "**helloの部分を少し変化させた文字列にするだけで全然違うハッシュ値が出力されるはず**"
   ]
  },
  {
   "cell_type": "code",
   "execution_count": null,
   "metadata": {},
   "outputs": [],
   "source": [
    "!echo \"hello\" | openssl dgst -sha1"
   ]
  },
  {
   "cell_type": "code",
   "execution_count": null,
   "metadata": {},
   "outputs": [],
   "source": [
    "!echo \"hallo\" | openssl dgst -sha1"
   ]
  },
  {
   "cell_type": "markdown",
   "metadata": {},
   "source": [
    "**文字列だけでなくイメージファイルでも同じ長さのハッシュ値**"
   ]
  },
  {
   "cell_type": "code",
   "execution_count": null,
   "metadata": {},
   "outputs": [],
   "source": [
    "!openssl dgst -sha1 web_samples/mona/nimaime.jpg"
   ]
  },
  {
   "cell_type": "code",
   "execution_count": null,
   "metadata": {},
   "outputs": [],
   "source": [
    "!openssl dgst -sha1 web_samples/mona/nimaime_kouho/doraemon.jpg"
   ]
  },
  {
   "cell_type": "markdown",
   "metadata": {},
   "source": [
    "**opensslコマンドで暗号化や電子署名を体験しよう**"
   ]
  },
  {
   "cell_type": "code",
   "execution_count": null,
   "metadata": {},
   "outputs": [],
   "source": [
    "%%bash\n",
    "openssl genrsa -out private.key.pem \n",
    "chmod 600 private.key.pem \n",
    "openssl rsa -in private.key.pem -pubout -out public.key.pem \n",
    "echo \"PRIVATE_KEY\"\n",
    "cat private.key.pem \n",
    "echo \"PUBLIC_KEY\"\n",
    "cat public.key.pem "
   ]
  },
  {
   "cell_type": "markdown",
   "metadata": {},
   "source": [
    "**message.txt を公開鍵で暗号化して message.enc を生成する**"
   ]
  },
  {
   "cell_type": "markdown",
   "metadata": {},
   "source": [
    "[message.txt](/user-redirect/edit/textbook/2018-lectures/notebooks/nw_sec/message.txt) "
   ]
  },
  {
   "cell_type": "code",
   "execution_count": null,
   "metadata": {},
   "outputs": [],
   "source": [
    "%%bash\n",
    "openssl rsautl -encrypt -pubin -inkey public.key.pem -in message.txt -out message.enc\n",
    "openssl rsautl -decrypt -inkey private.key.pem -in message.enc -out message.dec \n",
    "\n",
    "echo == message.txt ==\n",
    "cat message.txt\n",
    "echo \n",
    "echo  == message.enc == \n",
    "cat message.enc\n",
    "echo \n",
    "echo  == message.dec == \n",
    "cat message.dec\n",
    "echo "
   ]
  },
  {
   "cell_type": "markdown",
   "metadata": {},
   "source": [
    "**署名ファイルを作成してみよう**"
   ]
  },
  {
   "cell_type": "code",
   "execution_count": null,
   "metadata": {},
   "outputs": [],
   "source": [
    "!openssl dgst -sha1 message.txt"
   ]
  },
  {
   "cell_type": "markdown",
   "metadata": {},
   "source": [
    "**署名ファイルの作成（ファイルのハッシュ値を秘密伴で暗号化する**　　  \n",
    "164511adc08139103e492684b4cc1e9862d5dcde の 部分は各自のmessage.txtの内容で変化するので、置き換えが必要 "
   ]
  },
  {
   "cell_type": "code",
   "execution_count": null,
   "metadata": {},
   "outputs": [],
   "source": [
    "!echo \"32880a4a94ca5083a8a1084048e8345f210f0180\" |openssl rsautl -sign -inkey private.key.pem > message.sig\n",
    "!cat message.sig"
   ]
  },
  {
   "cell_type": "markdown",
   "metadata": {},
   "source": [
    "**署名の検証（署名ファイルを公開鍵で復号化する**"
   ]
  },
  {
   "cell_type": "code",
   "execution_count": null,
   "metadata": {},
   "outputs": [],
   "source": [
    "!openssl rsautl -verify -pubin -inkey public.key.pem -in message.sig "
   ]
  },
  {
   "cell_type": "markdown",
   "metadata": {},
   "source": [
    "**sshコマンドを使ってみよう**"
   ]
  },
  {
   "cell_type": "markdown",
   "metadata": {},
   "source": [
    "**sshの鍵を設定して秘密鍵を使ってsshログインしてみる**"
   ]
  },
  {
   "cell_type": "code",
   "execution_count": null,
   "metadata": {},
   "outputs": [],
   "source": [
    "!sudo apt-get update"
   ]
  },
  {
   "cell_type": "code",
   "execution_count": null,
   "metadata": {},
   "outputs": [],
   "source": [
    "!sudo apt-get install ssh  -y"
   ]
  },
  {
   "cell_type": "code",
   "execution_count": null,
   "metadata": {},
   "outputs": [],
   "source": [
    "%%bash\n",
    "mkdir ~/keys\n",
    "ssh-keygen -P '' -f ~/keys/rsa\n",
    "chmod 0700 ~/keys"
   ]
  },
  {
   "cell_type": "code",
   "execution_count": null,
   "metadata": {},
   "outputs": [],
   "source": [
    "!cat  ~/keys/rsa.pub"
   ]
  },
  {
   "cell_type": "code",
   "execution_count": null,
   "metadata": {},
   "outputs": [],
   "source": [
    "!mkdir -p ~/.ssh"
   ]
  },
  {
   "cell_type": "code",
   "execution_count": null,
   "metadata": {},
   "outputs": [],
   "source": [
    "!cat ~/keys/rsa.pub >> ~/.ssh/authorized_keys"
   ]
  },
  {
   "cell_type": "code",
   "execution_count": null,
   "metadata": {},
   "outputs": [],
   "source": [
    "!cat  ~/keys/rsa"
   ]
  },
  {
   "cell_type": "code",
   "execution_count": null,
   "metadata": {},
   "outputs": [],
   "source": [
    "!cat ~/.ssh/authorized_keys"
   ]
  },
  {
   "cell_type": "code",
   "execution_count": null,
   "metadata": {},
   "outputs": [],
   "source": [
    "!ip addr|grep 172 "
   ]
  },
  {
   "cell_type": "code",
   "execution_count": null,
   "metadata": {
    "scrolled": true
   },
   "outputs": [],
   "source": [
    "!whoami"
   ]
  },
  {
   "cell_type": "code",
   "execution_count": null,
   "metadata": {},
   "outputs": [],
   "source": [
    "!sudo service ssh start"
   ]
  },
  {
   "cell_type": "code",
   "execution_count": null,
   "metadata": {},
   "outputs": [],
   "source": [
    "!ssh 172.19.0.3  -i ~/keys/rsa -o StrictHostKeyChecking=no "
   ]
  },
  {
   "cell_type": "code",
   "execution_count": null,
   "metadata": {},
   "outputs": [],
   "source": [
    "!echo \"ssh-rsa AAAAB3NzaC1yc2EAAAADAQABAAABAQD00auC1+Vfwwiouwqx8I4Q/ArCNXEGOh7KwogQgIkPzU9eY4bBSb+3tm09DmMgCxUOBrjXOidsQG5rIN9cBYpF/72Pm2KIaCrLee2vcNat1A0Uu52THVt4EOFMOFLHDr1DWQ/qXvFbUVUSJ4uECmkUTMbk3ulX28EsY+P8T0RE230AxxzD0RbzigulKTY50ZjqpSKY8iX8lJkb/gdnXjlFkQPqCI1SI//SONtwlnGje1rnHA0aOlIgsZkP+dH0/Ssc7exEPtFFa6+rIremdO3f+RUsMqXr4pAvwqlua2kkW1oxKcXcTjbp7SEsfqtHckkYuOm88/TvhkVk3n77dXwH jovyan@119\" >> ~/.ssh/authorized_keys "
   ]
  },
  {
   "cell_type": "code",
   "execution_count": null,
   "metadata": {},
   "outputs": [],
   "source": [
    "!echo \"ssh-rsa AAAAB3NzaC1yc2EAAAADAQABAAABAQCcoCEqM283P2XVwekIUFYk5zi5O218Ub9CtyDwX62ZxUpiYMTL82Bve86+atonTxjuW5R+23Vu2zs9LiopBp+tVHesBZW+uAv7XrSd7PwdtuA0hnWslMV2YZFAi2kaZWGAHBhBc3qX8IW81sV3CwF94XTGNdPLrs8Qh/aMNhiZw5to1hSsw3WYzq5ZDRina6iHUtPPpBcFELEY2RzrEtgSAtSqjiwZBjxeiyx0pXG/h8QRH0YLxXIwNVTP8sH2OsYrHHQ677+1/OlwUWmLj8CdaLz4rj2hQ+1S6OyamiFvrrb0LyDv7OwpHHYAh87NOirzbAju2kz/l0BaXEndQWAt jovyan@145\"  >> ~/.ssh/authorized_keys "
   ]
  },
  {
   "cell_type": "code",
   "execution_count": null,
   "metadata": {},
   "outputs": [],
   "source": [
    "!cat ~/.ssh/authorized_keys"
   ]
  },
  {
   "cell_type": "code",
   "execution_count": null,
   "metadata": {},
   "outputs": [],
   "source": [
    "!ip nei"
   ]
  }
 ],
 "metadata": {
  "kernelspec": {
   "display_name": "Python 2",
   "language": "python",
   "name": "python2"
  },
  "language_info": {
   "codemirror_mode": {
    "name": "ipython",
    "version": 2
   },
   "file_extension": ".py",
   "mimetype": "text/x-python",
   "name": "python",
   "nbconvert_exporter": "python",
   "pygments_lexer": "ipython2",
   "version": "2.7.15"
  }
 },
 "nbformat": 4,
 "nbformat_minor": 2
}
